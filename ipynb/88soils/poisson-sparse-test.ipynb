{
 "cells": [
  {
   "cell_type": "code",
   "execution_count": 1,
   "metadata": {},
   "outputs": [
    {
     "name": "stderr",
     "output_type": "stream",
     "text": [
      "/Users/mortonjt/miniconda3/envs/bayesian-regression/lib/python3.5/importlib/_bootstrap.py:222: RuntimeWarning: compiletime version 3.6 of module 'tensorflow.python.framework.fast_tensor_util' does not match runtime version 3.5\n",
      "  return f(*args, **kwds)\n",
      "/Users/mortonjt/miniconda3/envs/bayesian-regression/lib/python3.5/site-packages/h5py/__init__.py:36: FutureWarning: Conversion of the second argument of issubdtype from `float` to `np.floating` is deprecated. In future, it will be treated as `np.float64 == np.dtype(float).type`.\n",
      "  from ._conv import register_converters as _register_converters\n"
     ]
    }
   ],
   "source": [
    "from bayesian_regression.util.generators import random_poisson_model\n",
    "import matplotlib.pyplot as plt\n",
    "import matplotlib.colors as colors\n",
    "import seaborn as sns\n",
    "import numpy as np\n",
    "import pandas as pd\n",
    "from skbio import TreeNode\n",
    "from biom import load_table, Table\n",
    "from sklearn.utils import check_random_state\n",
    "from scipy.sparse import coo_matrix\n",
    "from skbio.stats.composition import _gram_schmidt_basis, closure\n",
    "import os\n",
    "import edward as ed\n",
    "import tensorflow as tf\n",
    "from tqdm import trange, tqdm\n",
    "from patsy import dmatrix\n",
    "import sys\n",
    "from scipy.stats import spearmanr\n",
    "from gneiss.cluster import rank_linkage\n",
    "%matplotlib inline\n",
    "\n",
    "def cross_validation(md, beta, gamma, data):\n",
    "    \"\"\" Computes two cross validation metrics\n",
    "\n",
    "    1) Rank difference\n",
    "    2) Mean squared error on observed entries\n",
    "\n",
    "    Parameters\n",
    "    ----------\n",
    "    md : np.array\n",
    "       Design matrix\n",
    "    beta : np.array\n",
    "       Regression coefficients\n",
    "    gamma : np.array\n",
    "       Regression intercepts\n",
    "    data : np.array\n",
    "       Dense matrix of counts.  Samples are rows\n",
    "       and features are columns.\n",
    "\n",
    "    Returns\n",
    "    -------\n",
    "    mse : float\n",
    "       Mean squared error across all of the cells in the matrix\n",
    "    mrc : float\n",
    "       Mean rank correlation.  This take the average spearman\n",
    "       correlation across every sample.  This boils down to matching\n",
    "       rank species curves per sample.\n",
    "    \"\"\"\n",
    "    n = data.sum(axis=1).reshape(-1, 1)\n",
    "    pred = np.multiply(n, clr_inv(md @ beta + gamma))\n",
    "    mse = np.mean(np.ravel(data - pred)**2)\n",
    "    mrc = np.mean([\n",
    "        spearmanr(data[i, :], pred[i, :])[0]\n",
    "        for i in range(data.shape[0])\n",
    "    ])\n",
    "    return mse, mrc\n",
    "\n",
    "\n",
    "def get_batch(M, N, D, y_data, y_row, y_col, num_neg=10):\n",
    "    #y_data = Y.data\n",
    "    #y_row = Y.row\n",
    "    #y_col = Y.col\n",
    "\n",
    "    # store all of the positive (i, j) coords\n",
    "    idx = np.vstack((y_row, y_col)).T\n",
    "    idx = set(map(tuple, idx.tolist()))\n",
    "    while True:\n",
    "        # get positive sample\n",
    "        positive_idx = np.random.choice(len(y_data), M)\n",
    "        positive_row = y_row[positive_idx].astype(np.int32)\n",
    "        positive_col = y_col[positive_idx].astype(np.int32)\n",
    "        positive_data = y_data[positive_idx].astype(np.float32)\n",
    "\n",
    "        # get negative sample\n",
    "        negative_row = np.zeros(num_neg, dtype=np.int32)\n",
    "        negative_col = np.zeros(num_neg, dtype=np.int32)\n",
    "        negative_data = np.zeros(num_neg, dtype=np.float32)\n",
    "        for k in range(num_neg):\n",
    "            i, j = np.random.randint(N), np.random.randint(D)\n",
    "            while (i, j) in idx:\n",
    "                i, j = np.random.randint(N), np.random.randint(D)\n",
    "                negative_row[k] = i\n",
    "                negative_col[k] = j\n",
    "\n",
    "        yield (positive_row, positive_col, positive_data,\n",
    "               negative_row, negative_col, negative_data)\n",
    "\n"
   ]
  },
  {
   "cell_type": "markdown",
   "metadata": {},
   "source": [
    "# Simulation\n",
    "\n",
    "We will first propose a generative model model species distributions.\n",
    "\n",
    "The model will be constructed as follows\n",
    "\n",
    "Generate a linear regression given known regression coefficients and intercepts (B) and known environmental gradients (G)\n",
    "\n",
    "$v = GB$\n",
    "\n",
    "$v$ represents the log ratios (also known as logits) of the species.  These logits can ultimately be used to interpret trends of ecological succession amongst groups of species.  However, these log ratios cannot be directly estimated (since it isn't possible to take the logarithm of zero).  Instead, we will rely on the generative process, and convert these log ratios to proportions, before generating counts.\n",
    "\n",
    "$v$ can be converted to proportions using the ILR transform.  $v$ has $D-1$ dimensions, where $D$ is the number of species.  The ILR transform can be represented as follows\n",
    "\n",
    "$\\eta = \\Psi v$\n",
    "\n",
    "where $\\Psi$ is an orthonormal basis of dimensions $D \\times D-1$.  It is possible to encode a tree topology into $\\Psi$.  One approach is to take phylogenetic trees in order to infer evolutionary trends with respect to environmental gradients.  For the sake of simplicity, we will choose an arbituary tree.  In terms of generating microbial counts, the choice tree doesn't matter since all trees will generate orthonormal bases that are equivalent up to rotation.\n",
    "\n",
    "Once we have proportions estimated by $\\eta$, we can then use these proportions to parameterize a counting distribution, such as the Multinomial distribution, the Poisson distribution or the Negative Binomial distribution.\n",
    "\n",
    "Here we will use the Poisson distribution to simulate microbial counts.  In order to account or differences due to sequencing depth and additional sample biases, a bias constant $\\theta$ is added to the model.  A global bias $\\alpha$ is added to everything.\n",
    "\n",
    "$Y \\sim Poisson( exp(\\eta + \\theta + \\alpha) )$\n",
    "\n",
    "To evaluate how well the model fits, we will first simulate the data given the model.  We will randomly simulate the coefficients from a given prior distribution, and then generate the counts from the model.\n",
    "If the model works, we should be able to recover the underlying parameters, and regenerate the microbial count table."
   ]
  },
  {
   "cell_type": "code",
   "execution_count": 2,
   "metadata": {},
   "outputs": [],
   "source": [
    "from collections import namedtuple\n",
    "dirname = '../../data/88soils'\n",
    "\n",
    "train_table = load_table(os.path.join(dirname, 'train_88soils_processed.biom'))\n",
    "test_table = load_table(os.path.join(dirname, 'test_88soils_processed.biom'))\n",
    "\n",
    "train_metadata = pd.read_table(os.path.join(dirname, 'train_88soils_metadata.txt'), index_col=0)\n",
    "test_metadata = pd.read_table(os.path.join(dirname, 'test_88soils_metadata.txt'), index_col=0)\n",
    "\n",
    "p = train_metadata.shape[1]   # number of covariates\n",
    "save_path = '../logs/tf_multinomial_88soils'\n",
    "\n",
    "learning_rate = 1e-1\n",
    "clipping_size=10\n",
    "# Priors\n",
    "gamma_mean, gamma_scale = 0, 1\n",
    "beta_mean, beta_scale = 0, 1\n",
    "\n",
    "num_neg = 100\n",
    "\n",
    "# Mini batch size\n",
    "batch_size = 500 \n",
    "num_epoch = 5\n",
    "\n",
    "min_sample_count = 100\n",
    "min_feature_count = 10\n",
    "formula = 'ph + 0'\n",
    "epochs_to_train = 10"
   ]
  },
  {
   "cell_type": "code",
   "execution_count": 3,
   "metadata": {},
   "outputs": [],
   "source": [
    "train_metadata = train_metadata.loc[train_table.ids(axis='sample')]\n",
    "\n",
    "sample_filter = lambda val, id_, md: (\n",
    "    (id_ in train_metadata.index) and np.sum(val) > min_sample_count)\n",
    "read_filter = lambda val, id_, md: np.sum(val) > min_feature_count\n",
    "metadata_filter = lambda val, id_, md: id_ in train_metadata.index\n",
    "\n",
    "train_table = train_table.filter(metadata_filter, axis='sample')\n",
    "train_table = train_table.filter(sample_filter, axis='sample')\n",
    "train_table = train_table.filter(read_filter, axis='observation')\n",
    "\n",
    "sort_f = lambda xs: [xs[train_metadata.index.get_loc(x)] for x in xs]\n",
    "train_table = train_table.sort(sort_f=sort_f, axis='sample')\n",
    "train_metadata = dmatrix(formula, train_metadata, return_type='dataframe')\n",
    "\n",
    "# hold out data preprocessing\n",
    "test_table, test_metadata = test_table, test_metadata\n",
    "metadata_filter = lambda val, id_, md: id_ in test_metadata.index\n",
    "obs_lookup = set(train_table.ids(axis='observation'))\n",
    "feat_filter = lambda val, id_, md: id_ in obs_lookup\n",
    "test_table = test_table.filter(metadata_filter, axis='sample')\n",
    "test_table = test_table.filter(feat_filter, axis='observation')\n",
    "\n",
    "sort_f = lambda xs: [xs[test_metadata.index.get_loc(x)] for x in xs]\n",
    "test_table = test_table.sort(sort_f=sort_f, axis='sample')\n",
    "test_metadata = dmatrix(formula, test_metadata, return_type='dataframe')\n",
    "\n",
    "G_data = train_metadata.values\n",
    "y_data = train_table.matrix_data.tocoo().T\n",
    "N, D = y_data.shape\n",
    "p = G_data.shape[1]   # number of covariates"
   ]
  },
  {
   "cell_type": "code",
   "execution_count": 4,
   "metadata": {},
   "outputs": [
    {
     "data": {
      "text/plain": [
       "Text(0.5,1,'Simulation')"
      ]
     },
     "execution_count": 4,
     "metadata": {},
     "output_type": "execute_result"
    },
    {
     "data": {
      "image/png": "[encoded data removed]",
      "text/plain": [
       "<matplotlib.figure.Figure at 0x1275c5f28>"
      ]
     },
     "metadata": {},
     "output_type": "display_data"
    }
   ],
   "source": [
    "# Plot the heatmap of the counts\n",
    "fig = plt.figure(figsize=(8, 5))\n",
    "plt.imshow(train_table.matrix_data.todense(), \n",
    "           aspect='auto', cmap='Reds', \n",
    "           norm=colors.LogNorm()\n",
    "          )\n",
    "plt.colorbar(label='counts')\n",
    "plt.ylabel('species', fontsize=24)\n",
    "plt.xlabel('samples', fontsize=24)\n",
    "plt.title('Simulation', fontsize=24) "
   ]
  },
  {
   "cell_type": "markdown",
   "metadata": {},
   "source": [
    "# Model\n",
    "\n",
    "This is where we will specify the model.  Specifically\n",
    "\n",
    "$e_{ij} \\sim N(0, \\kappa_j)$\n",
    "\n",
    "$v_{ij} = \\gamma_j + g_{i.} \\cdot \\beta_{.j} + e_{ij}$\n",
    "\n",
    "$\\eta_i = \\Psi v_i + \\theta_i$\n",
    "\n",
    "$Y_i \\sim Poisson( \\exp(\\eta_i) )$\n",
    "\n",
    "$\\gamma$ represents the intercept terms and $\\beta$ represent the regression coefficient terms.\n",
    "\n",
    "G and Y are both observed.  Since we are estimating both $B$ and $\\theta$, we will need set priors for both of these variables.  We will set unit normal priors on both of these variables"
   ]
  },
  {
   "cell_type": "code",
   "execution_count": 5,
   "metadata": {},
   "outputs": [],
   "source": [
    "epoch = y_data.nnz // batch_size\n",
    "num_iter = int(num_epoch * epoch)\n",
    "\n",
    "config = tf.ConfigProto(intra_op_parallelism_threads=2, \n",
    "                        inter_op_parallelism_threads=2,\n",
    "                        device_count={'CPU': 4}) \n",
    "session = tf.InteractiveSession(config=config)"
   ]
  },
  {
   "cell_type": "code",
   "execution_count": 6,
   "metadata": {
    "scrolled": true
   },
   "outputs": [
    {
     "name": "stderr",
     "output_type": "stream",
     "text": [
      "100%|██████████| 175/175 [00:01<00:00, 157.97it/s]\n"
     ]
    }
   ],
   "source": [
    "from edward.models import Normal, Poisson\n",
    "\n",
    "Gpos_ph = tf.placeholder(tf.float32, [batch_size, p], name='G_pos')\n",
    "Gneg_ph = tf.placeholder(tf.float32, [num_neg, p], name='G_neg')\n",
    "Y_ph = tf.placeholder(tf.float32, [batch_size], name='Y_ph')\n",
    "pos_row = tf.placeholder(tf.int32, shape=[batch_size], name='pos_row')\n",
    "pos_col = tf.placeholder(tf.int32, shape=[batch_size], name='pos_col')\n",
    "neg_row = tf.placeholder(tf.int32, shape=[num_neg], name='neg_row')\n",
    "neg_col = tf.placeholder(tf.int32, shape=[num_neg], name='neg_col')\n",
    "\n",
    "neg_data = tf.zeros(shape=[num_neg], name='neg_data', dtype=tf.float32)\n",
    "total_zero = tf.constant(y_data.shape[0] * y_data.shape[1] - y_data.nnz,\n",
    "                       dtype=tf.float32)\n",
    "total_nonzero = tf.constant(y_data.nnz, dtype=tf.float32)\n",
    "\n",
    "# Define PointMass Variables first\n",
    "qgamma = tf.Variable(tf.random_normal([1, D]), name='qgamma')\n",
    "# sample bias (for overdispersion)\n",
    "theta = tf.Variable(tf.random_normal([N, 1]), name='theta')\n",
    "qbeta = tf.Variable(tf.random_normal([p, D]), name='qB')\n",
    "\n",
    "# Distributions\n",
    "# species bias\n",
    "gamma = Normal(loc=tf.zeros([1, D]) + gamma_mean,\n",
    "             scale=tf.ones([1, D]) * gamma_scale,\n",
    "             name='gamma')\n",
    "# regression coefficents distribution\n",
    "beta = Normal(loc=tf.zeros([p, D]) + beta_mean,\n",
    "            scale=tf.ones([p, D]) * beta_scale,\n",
    "            name='B')\n",
    "\n",
    "V = tf.concat([qgamma, qbeta], axis=0)\n",
    "\n",
    "# add bias terms for samples\n",
    "Gpos = tf.concat([tf.ones([batch_size, 1]), Gpos_ph], axis=1)\n",
    "Gneg = tf.concat([tf.ones([num_neg, 1]), Gneg_ph], axis=1)\n",
    "\n",
    "# sparse matrix multiplication for positive samples\n",
    "pos_prime = tf.reduce_sum(\n",
    "  tf.multiply(\n",
    "      Gpos, tf.transpose(\n",
    "          tf.gather(V, pos_col, axis=1))),\n",
    "  axis=1)\n",
    "pos_phi = tf.reshape(tf.gather(theta, pos_row), shape=[batch_size]) + pos_prime\n",
    "Y = Poisson(log_rate=pos_phi, name='Y')\n",
    "\n",
    "# sparse matrix multiplication for negative samples\n",
    "neg_prime = tf.reduce_sum(\n",
    "  tf.multiply(\n",
    "      Gneg, tf.transpose(\n",
    "          tf.gather(V, neg_col, axis=1))),\n",
    "  axis=1)\n",
    "neg_phi = tf.reshape(tf.gather(theta, neg_row), shape=[num_neg]) + neg_prime\n",
    "neg_poisson = Poisson(log_rate=neg_phi, name='neg_counts')\n",
    "\n",
    "loss = -(\n",
    "  tf.reduce_sum(gamma.log_prob(qgamma)) + \\\n",
    "  tf.reduce_sum(beta.log_prob(qbeta)) + \\\n",
    "  tf.reduce_sum(Y.log_prob(Y_ph)) * (total_nonzero / batch_size) + \\\n",
    "  tf.reduce_sum(neg_poisson.log_prob(neg_data)) * (total_zero / num_neg)\n",
    ")\n",
    "\n",
    "\n",
    "optimizer = tf.train.AdamOptimizer(learning_rate)\n",
    "\n",
    "gradients, variables = zip(*optimizer.compute_gradients(loss))\n",
    "gradients, _ = tf.clip_by_global_norm(gradients, clipping_size)\n",
    "train = optimizer.apply_gradients(zip(gradients, variables))\n",
    "\n",
    "tf.summary.scalar('loss', loss)\n",
    "tf.summary.histogram('qbeta', qbeta)\n",
    "tf.summary.histogram('qgamma', qgamma)\n",
    "tf.summary.histogram('theta', theta)\n",
    "merged = tf.summary.merge_all()\n",
    "\n",
    "tf.global_variables_initializer().run()\n",
    "\n",
    "writer = tf.summary.FileWriter(save_path, session.graph)\n",
    "run_options = tf.RunOptions(trace_level=tf.RunOptions.FULL_TRACE)\n",
    "run_metadata = tf.RunMetadata()\n",
    "    \n",
    "losses = np.array([0.] * num_iter)\n",
    "idx = np.arange(train_metadata.shape[0])\n",
    "log_handle = open(os.path.join(save_path, 'run.log'), 'w')\n",
    "gen = get_batch(batch_size, \n",
    "                N, D, \n",
    "                y_data.data, \n",
    "                y_data.row,\n",
    "                y_data.col,\n",
    "                num_neg=num_neg)\n",
    "for i in tqdm(range(num_iter)):\n",
    "    batch_idx = np.random.choice(idx, size=batch_size)\n",
    "    batch = next(gen)\n",
    "    (positive_row, positive_col, positive_data,\n",
    "     negative_row, negative_col, negative_data) = batch\n",
    "    feed_dict={\n",
    "        Y_ph: positive_data,\n",
    "        Gpos_ph: G_data[positive_row, :],\n",
    "        Gneg_ph: G_data[negative_row, :],\n",
    "        pos_row: positive_row,\n",
    "        pos_col: positive_col,\n",
    "        neg_row: negative_row,\n",
    "        neg_col: negative_col\n",
    "    }\n",
    "\n",
    "    _, summary, train_loss, grads = session.run(\n",
    "        [train, merged, loss, gradients],\n",
    "        feed_dict=feed_dict,\n",
    "        options=run_options,\n",
    "        run_metadata=run_metadata\n",
    "    )\n",
    "    writer.add_summary(summary, i)\n",
    "    losses[i] = train_loss\n"
   ]
  },
  {
   "cell_type": "code",
   "execution_count": 7,
   "metadata": {},
   "outputs": [
    {
     "data": {
      "text/plain": [
       "<79x1371 sparse matrix of type '<class 'numpy.float64'>'\n",
       "\twith 17939 stored elements in COOrdinate format>"
      ]
     },
     "execution_count": 7,
     "metadata": {},
     "output_type": "execute_result"
    }
   ],
   "source": [
    "y_data"
   ]
  },
  {
   "cell_type": "code",
   "execution_count": 8,
   "metadata": {},
   "outputs": [
    {
     "data": {
      "image/png": "[encoded data removed]",
      "text/plain": [
       "<matplotlib.figure.Figure at 0x12775c198>"
      ]
     },
     "metadata": {},
     "output_type": "display_data"
    }
   ],
   "source": [
    "plt.plot(losses)\n",
    "plt.yscale('log')"
   ]
  },
  {
   "cell_type": "code",
   "execution_count": 9,
   "metadata": {},
   "outputs": [],
   "source": [
    "beta_ = qbeta.eval()\n",
    "gamma_ = qgamma.eval()\n",
    "theta_ = theta.eval()"
   ]
  },
  {
   "cell_type": "code",
   "execution_count": 10,
   "metadata": {},
   "outputs": [],
   "source": [
    "from scipy.spatial.distance import cityblock\n",
    "\n",
    "def cross_validation(md, beta, gamma, data, k=10):\n",
    "    \"\"\" Computes two cross validation metrics\n",
    "\n",
    "    1) Rank difference\n",
    "    2) Mean squared error on observed entries\n",
    "\n",
    "    Parameters\n",
    "    ----------\n",
    "    md : np.array\n",
    "       Design matrix\n",
    "    beta : np.array\n",
    "       Regression coefficients\n",
    "    gamma : np.array\n",
    "       Regression intercepts\n",
    "    data : np.array\n",
    "       Dense matrix of counts.  Samples are rows\n",
    "       and features are columns.\n",
    "    k : int\n",
    "       Top k ranks to compare\n",
    "\n",
    "    Returns\n",
    "    -------\n",
    "    mse : float\n",
    "       Mean squared error across all of the cells in the matrix\n",
    "    mrc : float\n",
    "       Mean rank correlation.  This take the average spearman\n",
    "       correlation across every sample.  This boils down to matching\n",
    "       rank species curves per sample.\n",
    "    \"\"\"\n",
    "    n = data.sum(axis=1).reshape(-1, 1)\n",
    "    pred = np.multiply(n, clr_inv(md @ beta + gamma))\n",
    "    mse = np.mean([cityblock(data[i], pred[i]) \n",
    "                   for i in range(data.shape[0])]) / data.shape[1]    \n",
    "    rc = []\n",
    "    for i in range(data.shape[0]):\n",
    "        idx = np.argsort(data[i, :])[-k:]\n",
    "        r = spearmanr(data[i, idx], pred[i, idx])\n",
    "        rc.append(r.correlation)\n",
    "    mrc = np.mean(rc)\n",
    "    return mse, mrc"
   ]
  },
  {
   "cell_type": "code",
   "execution_count": 11,
   "metadata": {},
   "outputs": [
    {
     "data": {
      "text/plain": [
       "<matplotlib.colorbar.Colorbar at 0x12ace2e10>"
      ]
     },
     "execution_count": 11,
     "metadata": {},
     "output_type": "execute_result"
    },
    {
     "data": {
      "image/png": "[encoded data removed]",
      "text/plain": [
       "<matplotlib.figure.Figure at 0x12aa72978>"
      ]
     },
     "metadata": {},
     "output_type": "display_data"
    }
   ],
   "source": [
    "from skbio.stats.composition import clr_inv\n",
    "from numpy.random import multinomial, poisson\n",
    "n = y_data.sum(axis=1)\n",
    "p = clr_inv(G_data @ beta_ + gamma_)\n",
    "counts = np.vstack([multinomial(n[i], p[i]) for i in range(p.shape[0])]).T\n",
    "\n",
    "#p = np.exp(theta_ + G_data @ beta_ + gamma_)\n",
    "#counts = np.vstack([poisson(p[i]) for i in range(p.shape[0])]).T\n",
    "plt.imshow(counts, aspect='auto', cmap='Reds', \n",
    "           norm=colors.LogNorm())\n",
    "plt.colorbar()"
   ]
  },
  {
   "cell_type": "code",
   "execution_count": 12,
   "metadata": {},
   "outputs": [],
   "source": [
    "y_test = np.array(test_table.matrix_data.todense()).T"
   ]
  },
  {
   "cell_type": "code",
   "execution_count": 13,
   "metadata": {},
   "outputs": [],
   "source": [
    "mse, mrc = cross_validation(test_metadata.values, beta_, gamma_, y_test) "
   ]
  },
  {
   "cell_type": "code",
   "execution_count": 14,
   "metadata": {},
   "outputs": [
    {
     "data": {
      "text/plain": [
       "(0.9892123136962551, 0.1059881511392054)"
      ]
     },
     "execution_count": 14,
     "metadata": {},
     "output_type": "execute_result"
    }
   ],
   "source": [
    "mse, mrc"
   ]
  },
  {
   "cell_type": "code",
   "execution_count": null,
   "metadata": {},
   "outputs": [],
   "source": []
  },
  {
   "cell_type": "code",
   "execution_count": null,
   "metadata": {},
   "outputs": [],
   "source": []
  }
 ],
 "metadata": {
  "kernelspec": {
   "display_name": "Python 3",
   "language": "python",
   "name": "python3"
  },
  "language_info": {
   "codemirror_mode": {
    "name": "ipython",
    "version": 3
   },
   "file_extension": ".py",
   "mimetype": "text/x-python",
   "name": "python",
   "nbconvert_exporter": "python",
   "pygments_lexer": "ipython3",
   "version": "3.5.5"
  }
 },
 "nbformat": 4,
 "nbformat_minor": 2
}
