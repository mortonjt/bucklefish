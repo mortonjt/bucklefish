{
 "cells": [
  {
   "cell_type": "code",
   "execution_count": 1,
   "metadata": {},
   "outputs": [
    {
     "name": "stderr",
     "output_type": "stream",
     "text": [
      "/Users/mortonjt/miniconda3/envs/bayesian-regression/lib/python3.5/importlib/_bootstrap.py:222: RuntimeWarning: compiletime version 3.6 of module 'tensorflow.python.framework.fast_tensor_util' does not match runtime version 3.5\n",
      "  return f(*args, **kwds)\n",
      "/Users/mortonjt/miniconda3/envs/bayesian-regression/lib/python3.5/site-packages/h5py/__init__.py:36: FutureWarning: Conversion of the second argument of issubdtype from `float` to `np.floating` is deprecated. In future, it will be treated as `np.float64 == np.dtype(float).type`.\n",
      "  from ._conv import register_converters as _register_converters\n"
     ]
    }
   ],
   "source": [
    "from bayesian_regression.util.generators import random_poisson_model\n",
    "import matplotlib.pyplot as plt\n",
    "import matplotlib.colors as colors\n",
    "import seaborn as sns\n",
    "import numpy as np\n",
    "import pandas as pd\n",
    "from skbio import TreeNode\n",
    "from biom import load_table, Table\n",
    "from sklearn.utils import check_random_state\n",
    "from scipy.sparse import coo_matrix\n",
    "from skbio.stats.composition import _gram_schmidt_basis, closure\n",
    "import os\n",
    "import edward as ed\n",
    "import tensorflow as tf\n",
    "from tqdm import trange, tqdm\n",
    "from patsy import dmatrix\n",
    "import sys\n",
    "from scipy.stats import spearmanr\n",
    "from gneiss.cluster import rank_linkage\n",
    "%matplotlib inline\n",
    "\n",
    "\n",
    "def sparse_balance_basis(tree):\n",
    "    \"\"\" Calculates sparse representation of an ilr basis from a tree.\n",
    "\n",
    "    This computes an orthonormal basis specified from a bifurcating tree.\n",
    "\n",
    "    Parameters\n",
    "    ----------\n",
    "    tree : skbio.TreeNode\n",
    "        Input bifurcating tree.  Must be strictly bifurcating\n",
    "        (i.e. every internal node needs to have exactly 2 children).\n",
    "        This is used to specify the ilr basis.\n",
    "\n",
    "    Returns\n",
    "    -------\n",
    "    scipy.sparse.coo_matrix\n",
    "       The ilr basis required to perform the ilr_inv transform.\n",
    "       This is also known as the sequential binary partition.\n",
    "       Note that this matrix is represented in clr coordinates.\n",
    "    nodes : list, str\n",
    "        List of tree nodes indicating the ordering in the basis.\n",
    "\n",
    "    Raises\n",
    "    ------\n",
    "    ValueError\n",
    "        The tree doesn't contain two branches.\n",
    "\n",
    "    \"\"\"\n",
    "    NUMERATOR=1\n",
    "    DENOMINATOR=0\n",
    "    # This is inspired by @wasade in\n",
    "    # https://github.com/biocore/gneiss/pull/8\n",
    "    t = tree.copy()\n",
    "    D = len(list(tree.tips()))\n",
    "    # calculate number of tips under each node\n",
    "    for n in t.postorder(include_self=True):\n",
    "        if n.is_tip():\n",
    "            n._tip_count = 1\n",
    "        else:\n",
    "            try:\n",
    "                left, right = n.children[NUMERATOR], n.children[DENOMINATOR],\n",
    "            except:\n",
    "                raise ValueError(\"Not a strictly bifurcating tree.\")\n",
    "            n._tip_count = left._tip_count + right._tip_count\n",
    "\n",
    "    # calculate k, r, s, t coordinate for each node\n",
    "    left, right = t.children[NUMERATOR], t.children[DENOMINATOR],\n",
    "    t._k, t._r, t._s, t._t = 0, left._tip_count, right._tip_count, 0\n",
    "    for n in t.preorder(include_self=False):\n",
    "        if n.is_tip():\n",
    "            n._k, n._r, n._s, n._t = 0, 0, 0, 0\n",
    "\n",
    "        elif n == n.parent.children[NUMERATOR]:\n",
    "            n._k = n.parent._k\n",
    "            n._r = n.children[NUMERATOR]._tip_count\n",
    "            n._s = n.children[DENOMINATOR]._tip_count\n",
    "            n._t = n.parent._s + n.parent._t\n",
    "        elif n == n.parent.children[DENOMINATOR]:\n",
    "            n._k = n.parent._r + n.parent._k\n",
    "            n._r = n.children[NUMERATOR]._tip_count\n",
    "            n._s = n.children[DENOMINATOR]._tip_count\n",
    "            n._t = n.parent._t\n",
    "        else:\n",
    "            raise ValueError(\"Tree topology is not correct.\")\n",
    "\n",
    "    # navigate through tree to build the basis in a sparse matrix form\n",
    "    value = []\n",
    "    row, col = [], []\n",
    "    nodes = []\n",
    "    i = 0\n",
    "\n",
    "    for n in t.levelorder(include_self=True):\n",
    "\n",
    "        if n.is_tip():\n",
    "            continue\n",
    "\n",
    "        for j in range(n._k, n._k + n._r):\n",
    "            row.append(i)\n",
    "            col.append(D-1-j)\n",
    "            A = np.sqrt(n._s / (n._r * (n._s + n._r)))\n",
    "\n",
    "            value.append(A)\n",
    "\n",
    "        for j in range(n._k + n._r, n._k + n._r + n._s):\n",
    "            row.append(i)\n",
    "            col.append(D-1-j)\n",
    "            B = -np.sqrt(n._r / (n._s * (n._s + n._r)))\n",
    "\n",
    "            value.append(B)\n",
    "        i += 1\n",
    "        nodes.append(n.name)\n",
    "\n",
    "    basis = coo_matrix((value, (row, col)), shape=(D-1, D), dtype=np.float32)\n",
    "\n",
    "    return basis, nodes\n",
    "\n",
    "\n",
    "def match_tips(table, tree):\n",
    "    \"\"\" Returns the contingency table and tree with matched tips.\n",
    "\n",
    "    Sorts the columns of the contingency table to match the tips in\n",
    "    the tree.  The ordering of the tips is in post-traversal order.\n",
    "    If the tree is multi-furcating, then the tree is reduced to a\n",
    "    bifurcating tree by randomly inserting internal nodes.\n",
    "    The intersection of samples in the contingency table and the\n",
    "    tree will returned.\n",
    "\n",
    "    Parameters\n",
    "    ----------\n",
    "    table : biom.Table\n",
    "        Contingency table where samples correspond to rows and\n",
    "        features correspond to columns.\n",
    "    tree : skbio.TreeNode\n",
    "        Tree object where the leafs correspond to the features.\n",
    "\n",
    "    Returns\n",
    "    -------\n",
    "    biom.Table :\n",
    "        Subset of the original contingency table with the common features.\n",
    "    skbio.TreeNode :\n",
    "        Sub-tree with the common features.\n",
    "    \"\"\"\n",
    "    tips = [x.name for x in tree.tips()]\n",
    "    common_tips = set(tips) & set(table.ids(axis='observation'))\n",
    "\n",
    "    _tree = tree.shear(names=list(common_tips))\n",
    "\n",
    "    def filter_uncommon(val, id_, md):\n",
    "        return id_ in common_tips\n",
    "    _table = table.filter(filter_uncommon, axis='observation', inplace=False)\n",
    "\n",
    "    _tree.bifurcate()\n",
    "    _tree.prune()\n",
    "    sort_f = lambda x: [n.name for n in _tree.tips()]\n",
    "    _table = _table.sort(sort_f=sort_f, axis='observation')\n",
    "    return _table, _tree"
   ]
  },
  {
   "cell_type": "markdown",
   "metadata": {},
   "source": [
    "# Simulation\n",
    "\n",
    "We will first propose a generative model model species distributions.\n",
    "\n",
    "The model will be constructed as follows\n",
    "\n",
    "Generate a linear regression given known regression coefficients and intercepts (B) and known environmental gradients (G)\n",
    "\n",
    "$v = GB$\n",
    "\n",
    "$v$ represents the log ratios (also known as logits) of the species.  These logits can ultimately be used to interpret trends of ecological succession amongst groups of species.  However, these log ratios cannot be directly estimated (since it isn't possible to take the logarithm of zero).  Instead, we will rely on the generative process, and convert these log ratios to proportions, before generating counts.\n",
    "\n",
    "$v$ can be converted to proportions using the ILR transform.  $v$ has $D-1$ dimensions, where $D$ is the number of species.  The ILR transform can be represented as follows\n",
    "\n",
    "$\\eta = \\Psi v$\n",
    "\n",
    "where $\\Psi$ is an orthonormal basis of dimensions $D \\times D-1$.  It is possible to encode a tree topology into $\\Psi$.  One approach is to take phylogenetic trees in order to infer evolutionary trends with respect to environmental gradients.  For the sake of simplicity, we will choose an arbituary tree.  In terms of generating microbial counts, the choice tree doesn't matter since all trees will generate orthonormal bases that are equivalent up to rotation.\n",
    "\n",
    "Once we have proportions estimated by $\\eta$, we can then use these proportions to parameterize a counting distribution, such as the Multinomial distribution, the Poisson distribution or the Negative Binomial distribution.\n",
    "\n",
    "Here we will use the Poisson distribution to simulate microbial counts.  In order to account or differences due to sequencing depth and additional sample biases, a bias constant $\\theta$ is added to the model.  A global bias $\\alpha$ is added to everything.\n",
    "\n",
    "$Y \\sim Poisson( exp(\\eta + \\theta + \\alpha) )$\n",
    "\n",
    "To evaluate how well the model fits, we will first simulate the data given the model.  We will randomly simulate the coefficients from a given prior distribution, and then generate the counts from the model.\n",
    "If the model works, we should be able to recover the underlying parameters, and regenerate the microbial count table."
   ]
  },
  {
   "cell_type": "code",
   "execution_count": 2,
   "metadata": {},
   "outputs": [],
   "source": [
    "from collections import namedtuple\n",
    "dirname = '../../data/88soils'\n",
    "\n",
    "train_table = load_table(os.path.join(dirname, 'train_88soils_processed.biom'))\n",
    "test_table = load_table(os.path.join(dirname, 'test_88soils_processed.biom'))\n",
    "\n",
    "train_metadata = pd.read_table(os.path.join(dirname, 'train_88soils_metadata.txt'), index_col=0)\n",
    "test_metadata = pd.read_table(os.path.join(dirname, 'test_88soils_metadata.txt'), index_col=0)\n",
    "tree = TreeNode.read('../../data/88soils/88soils_tree.nwk')\n",
    "\n",
    "p = train_metadata.shape[1]   # number of covariates\n",
    "save_path = '../logs/tf_multinomial_88soils'\n",
    "\n",
    "learning_rate = 1e-1\n",
    "batch_size = 5\n",
    "gamma_mean, gamma_scale = 0, 1\n",
    "beta_mean, beta_scale = 0, 1\n",
    "\n",
    "min_sample_count = 100\n",
    "min_feature_count = 10\n",
    "formula = 'ph + 0'\n",
    "epochs_to_train = 100"
   ]
  },
  {
   "cell_type": "code",
   "execution_count": 3,
   "metadata": {},
   "outputs": [],
   "source": [
    "train_metadata = train_metadata.loc[train_table.ids(axis='sample')]\n",
    "\n",
    "sample_filter = lambda val, id_, md: (\n",
    "    (id_ in train_metadata.index) and np.sum(val) > min_sample_count)\n",
    "read_filter = lambda val, id_, md: np.sum(val) > min_feature_count\n",
    "metadata_filter = lambda val, id_, md: id_ in train_metadata.index\n",
    "\n",
    "train_table = train_table.filter(metadata_filter, axis='sample')\n",
    "train_table = train_table.filter(sample_filter, axis='sample')\n",
    "train_table = train_table.filter(read_filter, axis='observation')\n",
    "\n",
    "sort_f = lambda xs: [xs[train_metadata.index.get_loc(x)] for x in xs]\n",
    "train_table = train_table.sort(sort_f=sort_f, axis='sample')\n",
    "train_metadata = dmatrix(formula, train_metadata, return_type='dataframe')\n",
    "\n",
    "# hold out data preprocessing\n",
    "test_table, test_metadata = test_table, test_metadata\n",
    "metadata_filter = lambda val, id_, md: id_ in test_metadata.index\n",
    "obs_lookup = set(train_table.ids(axis='observation'))\n",
    "feat_filter = lambda val, id_, md: id_ in obs_lookup\n",
    "test_table = test_table.filter(metadata_filter, axis='sample')\n",
    "test_table = test_table.filter(feat_filter, axis='observation')\n",
    "\n",
    "sort_f = lambda xs: [xs[test_metadata.index.get_loc(x)] for x in xs]\n",
    "test_table = test_table.sort(sort_f=sort_f, axis='sample')\n",
    "test_metadata = dmatrix(formula, test_metadata, return_type='dataframe')\n",
    "\n",
    "train_table, tree = match_tips(train_table, tree)\n",
    "basis, nodes = sparse_balance_basis(tree)\n",
    "basis = basis.T\n",
    "\n",
    "G_data = train_metadata.values\n",
    "y_data = np.array(train_table.matrix_data.todense()).T\n",
    "N, D = y_data.shape\n",
    "p = G_data.shape[1]   # number of covariates\n",
    "\n",
    "num_iter = (N // batch_size) * epochs_to_train"
   ]
  },
  {
   "cell_type": "code",
   "execution_count": 4,
   "metadata": {},
   "outputs": [
    {
     "data": {
      "text/plain": [
       "Text(0.5,1,'Simulation')"
      ]
     },
     "execution_count": 4,
     "metadata": {},
     "output_type": "execute_result"
    },
    {
     "data": {
      "image/png": "[encoded data removed]",
      "text/plain": [
       "<matplotlib.figure.Figure at 0x1292d4eb8>"
      ]
     },
     "metadata": {},
     "output_type": "display_data"
    }
   ],
   "source": [
    "# Plot the heatmap of the counts\n",
    "fig = plt.figure(figsize=(8, 5))\n",
    "plt.imshow(train_table.matrix_data.todense(), \n",
    "           aspect='auto', cmap='Reds', \n",
    "           norm=colors.LogNorm()\n",
    "          )\n",
    "plt.colorbar(label='counts')\n",
    "plt.ylabel('species', fontsize=24)\n",
    "plt.xlabel('samples', fontsize=24)\n",
    "plt.title('Simulation', fontsize=24) "
   ]
  },
  {
   "cell_type": "markdown",
   "metadata": {},
   "source": [
    "# Model\n",
    "\n",
    "This is where we will specify the model.  Specifically\n",
    "\n",
    "$e_{ij} \\sim N(0, \\kappa_j)$\n",
    "\n",
    "$v_{ij} = \\gamma_j + g_{i.} \\cdot \\beta_{.j} + e_{ij}$\n",
    "\n",
    "$\\eta_i = \\Psi v_i + \\theta_i$\n",
    "\n",
    "$Y_i \\sim Poisson( \\exp(\\eta_i) )$\n",
    "\n",
    "$\\gamma$ represents the intercept terms and $\\beta$ represent the regression coefficient terms.\n",
    "\n",
    "G and Y are both observed.  Since we are estimating both $B$ and $\\theta$, we will need set priors for both of these variables.  We will set unit normal priors on both of these variables"
   ]
  },
  {
   "cell_type": "code",
   "execution_count": 5,
   "metadata": {},
   "outputs": [],
   "source": [
    "# Mini batch size\n",
    "epoch = y_data.shape[0] // batch_size\n",
    "\n",
    "config = tf.ConfigProto(intra_op_parallelism_threads=2, \n",
    "                        inter_op_parallelism_threads=2,\n",
    "                        device_count={'CPU': 4}) \n",
    "session = tf.InteractiveSession(config=config)"
   ]
  },
  {
   "cell_type": "code",
   "execution_count": 6,
   "metadata": {},
   "outputs": [
    {
     "data": {
      "text/plain": [
       "(1371, 1370)"
      ]
     },
     "execution_count": 6,
     "metadata": {},
     "output_type": "execute_result"
    }
   ],
   "source": [
    "basis.shape"
   ]
  },
  {
   "cell_type": "code",
   "execution_count": 7,
   "metadata": {
    "scrolled": true
   },
   "outputs": [
    {
     "name": "stdout",
     "output_type": "stream",
     "text": [
      "WARNING:tensorflow:From /Users/mortonjt/miniconda3/envs/bayesian-regression/lib/python3.5/site-packages/tensorflow/python/ops/nn_grad.py:249: calling reduce_sum (from tensorflow.python.ops.math_ops) with keep_dims is deprecated and will be removed in a future version.\n",
      "Instructions for updating:\n",
      "keep_dims is deprecated, use keepdims instead\n"
     ]
    },
    {
     "name": "stderr",
     "output_type": "stream",
     "text": [
      "100%|██████████| 1500/1500 [00:03<00:00, 452.36it/s]\n"
     ]
    }
   ],
   "source": [
    "from edward.models import Normal, Multinomial, Poisson\n",
    "\n",
    "# Place holder variables to accept input data                                                                 \n",
    "idx_ph = tf.placeholder(tf.int32, [batch_size], name='idx_ph')\n",
    "G_ph = tf.placeholder(tf.float32, [batch_size, p], name='G_ph')\n",
    "Y_ph = tf.placeholder(tf.float32, [batch_size, D], name='Y_ph')\n",
    "total_count = tf.placeholder(tf.float32, [batch_size], name='total_count')\n",
    "\n",
    "# Define PointMass Variables first\n",
    "qgamma = tf.Variable(tf.random_normal([1, D-1]), name='qgamma')\n",
    "qbeta = tf.Variable(tf.random_normal([p, D-1]), name='qB')\n",
    "theta = tf.Variable(tf.random_normal([N, 1]), name='theta')\n",
    "\n",
    "# Distributions\n",
    "# species bias\n",
    "gamma = Normal(loc=tf.zeros([1, D-1]) + gamma_mean,\n",
    "               scale=tf.ones([1, D-1]) * gamma_scale, \n",
    "               name='gamma')\n",
    "# regression coefficents distribution\n",
    "beta = Normal(loc=tf.zeros([p, D-1]) + beta_mean,\n",
    "              scale=tf.ones([p, D-1]) * beta_scale, \n",
    "              name='B')\n",
    "\n",
    "Bprime = tf.concat([qgamma, qbeta], axis=0)\n",
    "\n",
    "# add bias terms for samples\n",
    "Gprime = tf.concat([tf.ones([batch_size, 1]), G_ph], axis=1)\n",
    "\n",
    "# Convert basis to SparseTensor\n",
    "psi = tf.SparseTensor(\n",
    "    indices=np.mat([basis.row, basis.col]).transpose(),\n",
    "    values=basis.data,\n",
    "    dense_shape=basis.shape) \n",
    "\n",
    "eta = tf.matmul(Gprime, Bprime)\n",
    "eta_prime = tf.transpose(\n",
    "    tf.sparse_tensor_dense_matmul(psi, tf.transpose(eta))\n",
    ")\n",
    "phi = tf.nn.log_softmax(eta_prime) + tf.gather(theta, idx_ph)\n",
    "Y = Poisson(log_rate=phi, name='Y') \n",
    "\n",
    "loss = -(tf.reduce_sum(gamma.log_prob(qgamma)) + \\\n",
    "         tf.reduce_sum(beta.log_prob(qbeta)) + \\\n",
    "         tf.reduce_sum(Y.log_prob(Y_ph)) * (N / batch_size))\n",
    "\n",
    "optimizer = tf.train.AdamOptimizer(learning_rate)\n",
    "#global_step = tf.Variable(0, name=\"global_step\")    \n",
    "\n",
    "gradients, variables = zip(*optimizer.compute_gradients(loss))\n",
    "gradients, _ = tf.clip_by_global_norm(gradients, 10.0)\n",
    "train = optimizer.apply_gradients(zip(gradients, variables))\n",
    "\n",
    "tf.summary.scalar('loss', loss)\n",
    "tf.summary.histogram('qbeta', qbeta)\n",
    "tf.summary.histogram('qgamma', qgamma)\n",
    "#tf.summary.histogram('gradients', gradients)\n",
    "merged = tf.summary.merge_all()\n",
    "\n",
    "tf.global_variables_initializer().run()\n",
    "writer = tf.summary.FileWriter(save_path, session.graph)\n",
    "\n",
    "losses = np.array([0.] * num_iter)\n",
    "idx = np.arange(y_data.shape[0])\n",
    "for i in tqdm(range(num_iter)):\n",
    "    batch_idx = np.random.choice(idx, size=batch_size)\n",
    "    _, summary, train_loss, grads = session.run(\n",
    "        [train, merged, loss, gradients], \n",
    "        feed_dict={\n",
    "            idx_ph : batch_idx,\n",
    "            Y_ph: y_data[batch_idx].astype(np.float32), \n",
    "            G_ph: train_metadata.values[batch_idx].astype(np.float32),\n",
    "            total_count: y_data[batch_idx].sum(axis=1).astype(np.float32)\n",
    "        }\n",
    "    )\n",
    "    writer.add_summary(summary, i)\n",
    "    losses[i] = train_loss\n",
    "    #print(\"Step %d / %d: lr = %5.2f loss = %6.2f\\r\" %\n",
    "    #      (i, num_iter, lr, train_loss))"
   ]
  },
  {
   "cell_type": "code",
   "execution_count": 8,
   "metadata": {},
   "outputs": [
    {
     "data": {
      "text/plain": [
       "TensorShape([Dimension(5), Dimension(1370)])"
      ]
     },
     "execution_count": 8,
     "metadata": {},
     "output_type": "execute_result"
    }
   ],
   "source": [
    "eta.shape "
   ]
  },
  {
   "cell_type": "code",
   "execution_count": 23,
   "metadata": {},
   "outputs": [
    {
     "data": {
      "text/plain": [
       "(0, 400)"
      ]
     },
     "execution_count": 23,
     "metadata": {},
     "output_type": "execute_result"
    },
    {
     "data": {
      "image/png": "[encoded data removed]",
      "text/plain": [
       "<matplotlib.figure.Figure at 0x12ce3e518>"
      ]
     },
     "metadata": {},
     "output_type": "display_data"
    }
   ],
   "source": [
    "plt.plot(losses)\n",
    "plt.yscale('log')\n",
    "plt.xlim([0, 400])"
   ]
  },
  {
   "cell_type": "code",
   "execution_count": 10,
   "metadata": {},
   "outputs": [],
   "source": [
    "beta_ = qbeta.eval()\n",
    "gamma_ = qgamma.eval()"
   ]
  },
  {
   "cell_type": "code",
   "execution_count": 11,
   "metadata": {},
   "outputs": [],
   "source": [
    "from scipy.spatial.distance import cityblock\n",
    "from scipy.stats import rankdata\n",
    "def cross_validation(md, beta, gamma, data, k=10):\n",
    "    \"\"\" Computes two cross validation metrics\n",
    "\n",
    "    1) Rank difference\n",
    "    2) Mean squared error on observed entries\n",
    "\n",
    "    Parameters\n",
    "    ----------\n",
    "    md : np.array\n",
    "       Design matrix\n",
    "    beta : np.array\n",
    "       Regression coefficients\n",
    "    gamma : np.array\n",
    "       Regression intercepts\n",
    "    data : np.array\n",
    "       Dense matrix of counts.  Samples are rows\n",
    "       and features are columns.\n",
    "    k : int\n",
    "       Top k ranks to compare\n",
    "\n",
    "    Returns\n",
    "    -------\n",
    "    mse : float\n",
    "       Mean squared error across all of the cells in the matrix\n",
    "    mrc : float\n",
    "       Mean rank correlation.  This take the average spearman\n",
    "       correlation across every sample.  This boils down to matching\n",
    "       rank species curves per sample.\n",
    "    \"\"\"\n",
    "    n = data.sum(axis=1).reshape(-1, 1)\n",
    "    pred = np.multiply(n, clr_inv(md @ beta + gamma))\n",
    "    mse = np.mean([cityblock(data[i], pred[i]) for i in range(data.shape[0])]) / data.shape[1]\n",
    "    rc = []\n",
    "    for i in range(data.shape[0]):\n",
    "        idx = np.argsort(data[i, :])[-k:]\n",
    "        dr = rankdata(data[i, idx])\n",
    "        pr = rankdata(pred[i, idx])\n",
    "        r = spearmanr(dr, pr)\n",
    "        rc.append(r.correlation)\n",
    "    mrc = np.mean(rc)\n",
    "    return mse, mrc"
   ]
  },
  {
   "cell_type": "code",
   "execution_count": 21,
   "metadata": {},
   "outputs": [
    {
     "data": {
      "text/plain": [
       "<matplotlib.colorbar.Colorbar at 0x12cdec9e8>"
      ]
     },
     "execution_count": 21,
     "metadata": {},
     "output_type": "execute_result"
    },
    {
     "data": {
      "image/png": "[encoded data removed]",
      "text/plain": [
       "<matplotlib.figure.Figure at 0x12ce95c50>"
      ]
     },
     "metadata": {},
     "output_type": "display_data"
    }
   ],
   "source": [
    "from skbio.stats.composition import clr_inv\n",
    "from numpy.random import multinomial\n",
    "n = y_data.sum(axis=1)\n",
    "p = clr_inv((G_data @ beta_ + gamma_) @ basis.T)\n",
    "counts = np.vstack([multinomial(n[i], p[i]) for i in range(p.shape[0])]).T\n",
    "plt.imshow(counts, aspect='auto', cmap='Reds', \n",
    "           norm=colors.LogNorm())\n",
    "plt.colorbar()"
   ]
  },
  {
   "cell_type": "code",
   "execution_count": 13,
   "metadata": {},
   "outputs": [],
   "source": [
    "y_test = np.array(test_table.matrix_data.todense()).T\n",
    "mse, mrc = cross_validation(\n",
    "    test_metadata.values, \n",
    "    beta_ @ basis.T, gamma_ @ basis.T, y_test, k=50) "
   ]
  },
  {
   "cell_type": "code",
   "execution_count": 14,
   "metadata": {},
   "outputs": [
    {
     "data": {
      "text/plain": [
       "(0.7897423987715876, 0.2982274825757709)"
      ]
     },
     "execution_count": 14,
     "metadata": {},
     "output_type": "execute_result"
    }
   ],
   "source": [
    "mse, mrc "
   ]
  },
  {
   "cell_type": "code",
   "execution_count": 15,
   "metadata": {},
   "outputs": [
    {
     "data": {
      "text/plain": [
       "<matplotlib.axes._subplots.AxesSubplot at 0x12c7ce208>"
      ]
     },
     "execution_count": 15,
     "metadata": {},
     "output_type": "execute_result"
    },
    {
     "data": {
      "image/png": "[encoded data removed]",
      "text/plain": [
       "<matplotlib.figure.Figure at 0x128ea0ac8>"
      ]
     },
     "metadata": {},
     "output_type": "display_data"
    }
   ],
   "source": [
    "sns.distplot(gamma_)"
   ]
  },
  {
   "cell_type": "code",
   "execution_count": 16,
   "metadata": {},
   "outputs": [
    {
     "data": {
      "text/plain": [
       "<matplotlib.axes._subplots.AxesSubplot at 0x12cda89e8>"
      ]
     },
     "execution_count": 16,
     "metadata": {},
     "output_type": "execute_result"
    },
    {
     "data": {
      "image/png": "[encoded data removed]",
      "text/plain": [
       "<matplotlib.figure.Figure at 0x12c7ce198>"
      ]
     },
     "metadata": {},
     "output_type": "display_data"
    }
   ],
   "source": [
    "sns.distplot(beta_)"
   ]
  },
  {
   "cell_type": "code",
   "execution_count": 17,
   "metadata": {},
   "outputs": [
    {
     "data": {
      "text/plain": [
       "array([[ 3.9727680e+01,  1.0524257e+01, -2.8407495e+01, ...,\n",
       "        -8.6559728e-04,  4.3132341e-01, -3.4720454e-01]], dtype=float32)"
      ]
     },
     "execution_count": 17,
     "metadata": {},
     "output_type": "execute_result"
    }
   ],
   "source": [
    "gamma_"
   ]
  },
  {
   "cell_type": "code",
   "execution_count": 18,
   "metadata": {},
   "outputs": [
    {
     "data": {
      "text/plain": [
       "array([[-6.34241915e+00, -1.34059322e+00,  4.83521366e+00, ...,\n",
       "         4.48424369e-04, -1.45109845e-02, -1.55100912e-01]], dtype=float32)"
      ]
     },
     "execution_count": 18,
     "metadata": {},
     "output_type": "execute_result"
    }
   ],
   "source": [
    "beta_"
   ]
  },
  {
   "cell_type": "code",
   "execution_count": 19,
   "metadata": {},
   "outputs": [
    {
     "data": {
      "text/plain": [
       "1500"
      ]
     },
     "execution_count": 19,
     "metadata": {},
     "output_type": "execute_result"
    }
   ],
   "source": [
    "num_iter"
   ]
  },
  {
   "cell_type": "code",
   "execution_count": 20,
   "metadata": {},
   "outputs": [
    {
     "data": {
      "text/plain": [
       "(79, 5, 100)"
      ]
     },
     "execution_count": 20,
     "metadata": {},
     "output_type": "execute_result"
    }
   ],
   "source": [
    "N, batch_size,  epochs_to_train"
   ]
  },
  {
   "cell_type": "code",
   "execution_count": null,
   "metadata": {},
   "outputs": [],
   "source": []
  }
 ],
 "metadata": {
  "kernelspec": {
   "display_name": "Python 3",
   "language": "python",
   "name": "python3"
  },
  "language_info": {
   "codemirror_mode": {
    "name": "ipython",
    "version": 3
   },
   "file_extension": ".py",
   "mimetype": "text/x-python",
   "name": "python",
   "nbconvert_exporter": "python",
   "pygments_lexer": "ipython3",
   "version": "3.5.5"
  }
 },
 "nbformat": 4,
 "nbformat_minor": 2
}
