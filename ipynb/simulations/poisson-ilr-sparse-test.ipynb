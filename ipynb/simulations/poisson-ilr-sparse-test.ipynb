{
 "cells": [
  {
   "cell_type": "code",
   "execution_count": 1,
   "metadata": {},
   "outputs": [
    {
     "name": "stderr",
     "output_type": "stream",
     "text": [
      "/Users/mortonjt/miniconda3/envs/bayesian-regression/lib/python3.5/importlib/_bootstrap.py:222: RuntimeWarning: compiletime version 3.6 of module 'tensorflow.python.framework.fast_tensor_util' does not match runtime version 3.5\n",
      "  return f(*args, **kwds)\n",
      "/Users/mortonjt/miniconda3/envs/bayesian-regression/lib/python3.5/site-packages/h5py/__init__.py:36: FutureWarning: Conversion of the second argument of issubdtype from `float` to `np.floating` is deprecated. In future, it will be treated as `np.float64 == np.dtype(float).type`.\n",
      "  from ._conv import register_converters as _register_converters\n"
     ]
    }
   ],
   "source": [
    "from bayesian_regression.util.generators import random_poisson_model\n",
    "import matplotlib.pyplot as plt\n",
    "import matplotlib.colors as colors\n",
    "import seaborn as sns\n",
    "import numpy as np\n",
    "import pandas as pd\n",
    "from skbio import TreeNode\n",
    "from biom import load_table, Table\n",
    "from sklearn.utils import check_random_state\n",
    "from scipy.sparse import coo_matrix\n",
    "from skbio.stats.composition import _gram_schmidt_basis, closure\n",
    "import os\n",
    "import edward as ed\n",
    "import tensorflow as tf\n",
    "from tqdm import trange, tqdm\n",
    "import sys\n",
    "from gneiss.cluster import rank_linkage\n",
    "%matplotlib inline"
   ]
  },
  {
   "cell_type": "code",
   "execution_count": 2,
   "metadata": {},
   "outputs": [],
   "source": [
    "NUMERATOR=1\n",
    "DENOMINATOR=0\n",
    "def sparse_balance_basis(tree):\n",
    "    \"\"\" Calculates sparse representation of an ilr basis from a tree.\n",
    "\n",
    "    This computes an orthonormal basis specified from a bifurcating tree.\n",
    "\n",
    "    Parameters\n",
    "    ----------\n",
    "    tree : skbio.TreeNode\n",
    "        Input bifurcating tree.  Must be strictly bifurcating\n",
    "        (i.e. every internal node needs to have exactly 2 children).\n",
    "        This is used to specify the ilr basis.\n",
    "\n",
    "    Returns\n",
    "    -------\n",
    "    scipy.sparse.coo_matrix\n",
    "       The ilr basis required to perform the ilr_inv transform.\n",
    "       This is also known as the sequential binary partition.\n",
    "       Note that this matrix is represented in clr coordinates.\n",
    "    nodes : list, str\n",
    "        List of tree nodes indicating the ordering in the basis.\n",
    "\n",
    "    Raises\n",
    "    ------\n",
    "    ValueError\n",
    "        The tree doesn't contain two branches.\n",
    "\n",
    "    \"\"\"\n",
    "    # this is inspired by @wasade in\n",
    "    # https://github.com/biocore/gneiss/pull/8\n",
    "    t = tree.copy()\n",
    "    D = len(list(tree.tips()))\n",
    "    # calculate number of tips under each node\n",
    "    for n in t.postorder(include_self=True):\n",
    "        if n.is_tip():\n",
    "            n._tip_count = 1\n",
    "        else:\n",
    "            try:\n",
    "                left, right = n.children[NUMERATOR], n.children[DENOMINATOR],\n",
    "            except:\n",
    "                raise ValueError(\"Not a strictly bifurcating tree.\")\n",
    "            n._tip_count = left._tip_count + right._tip_count\n",
    "\n",
    "    # calculate k, r, s, t coordinate for each node\n",
    "    left, right = t.children[NUMERATOR], t.children[DENOMINATOR],\n",
    "    t._k, t._r, t._s, t._t = 0, left._tip_count, right._tip_count, 0\n",
    "    for n in t.preorder(include_self=False):\n",
    "        if n.is_tip():\n",
    "            n._k, n._r, n._s, n._t = 0, 0, 0, 0\n",
    "\n",
    "        elif n == n.parent.children[NUMERATOR]:\n",
    "            n._k = n.parent._k\n",
    "            n._r = n.children[NUMERATOR]._tip_count\n",
    "            n._s = n.children[DENOMINATOR]._tip_count\n",
    "            n._t = n.parent._s + n.parent._t\n",
    "        elif n == n.parent.children[DENOMINATOR]:\n",
    "            n._k = n.parent._r + n.parent._k\n",
    "            n._r = n.children[NUMERATOR]._tip_count\n",
    "            n._s = n.children[DENOMINATOR]._tip_count\n",
    "            n._t = n.parent._t\n",
    "        else:\n",
    "            raise ValueError(\"Tree topology is not correct.\")\n",
    "\n",
    "    # navigate through tree to build the basis in a sparse matrix form\n",
    "    value = []\n",
    "    row, col = [], []\n",
    "    nodes = []\n",
    "    i = 0\n",
    "\n",
    "    for n in t.levelorder(include_self=True):\n",
    "\n",
    "        if n.is_tip():\n",
    "            continue\n",
    "\n",
    "        for j in range(n._k, n._k + n._r):\n",
    "            row.append(i)\n",
    "            col.append(D-1-j)\n",
    "            A = np.sqrt(n._s / (n._r * (n._s + n._r)))\n",
    "\n",
    "            value.append(A)\n",
    "\n",
    "        for j in range(n._k + n._r, n._k + n._r + n._s):\n",
    "            row.append(i)\n",
    "            col.append(D-1-j)\n",
    "            B = -np.sqrt(n._r / (n._s * (n._s + n._r)))\n",
    "\n",
    "            value.append(B)\n",
    "        i += 1\n",
    "        nodes.append(n.name)\n",
    "\n",
    "    basis = coo_matrix((value, (row, col)), shape=(D-1, D), dtype=np.float32)\n",
    "\n",
    "    return basis, nodes\n",
    "\n",
    "\n",
    "def match_tips(table, tree):\n",
    "    \"\"\" Returns the contingency table and tree with matched tips.\n",
    "\n",
    "    Sorts the columns of the contingency table to match the tips in\n",
    "    the tree.  The ordering of the tips is in post-traversal order.\n",
    "    If the tree is multi-furcating, then the tree is reduced to a\n",
    "    bifurcating tree by randomly inserting internal nodes.\n",
    "    The intersection of samples in the contingency table and the\n",
    "    tree will returned.\n",
    "\n",
    "    Parameters\n",
    "    ----------\n",
    "    table : biom.Table\n",
    "        Contingency table where samples correspond to rows and\n",
    "        features correspond to columns.\n",
    "    tree : skbio.TreeNode\n",
    "        Tree object where the leafs correspond to the features.\n",
    "\n",
    "    Returns\n",
    "    -------\n",
    "    biom.Table :\n",
    "        Subset of the original contingency table with the common features.\n",
    "    skbio.TreeNode :\n",
    "        Sub-tree with the common features.\n",
    "    \"\"\"\n",
    "\n",
    "    tips = [x.name for x in tree.tips()]\n",
    "    common_tips = set(tips) & set(table.ids(axis='observation'))\n",
    "    _tree = tree.shear(names=list(common_tips))\n",
    "\n",
    "    def filter_uncommon(val, id_, md):\n",
    "        return id_ in common_tips\n",
    "    _table = table.filter(filter_uncommon, \n",
    "                          axis='observation', inplace=False)\n",
    "\n",
    "    _tree.bifurcate()\n",
    "    _tree.prune()\n",
    "    sort_f = lambda x: [n.name for n in _tree.tips()]\n",
    "    _table = _table.sort(sort_f=sort_f, axis='observation')\n",
    "    return _table, _tree\n",
    "\n",
    "\n",
    "def random_poisson_model(num_samples, num_features,\n",
    "                         tree=None,\n",
    "                         reps=1,\n",
    "                         low=2, high=10,\n",
    "                         alpha_mean=0,\n",
    "                         alpha_scale=5,\n",
    "                         theta_mean=0,\n",
    "                         theta_scale=5,\n",
    "                         gamma_mean=0,\n",
    "                         gamma_scale=5,\n",
    "                         kappa_mean=0,\n",
    "                         kappa_scale=5,\n",
    "                         beta_mean=0,\n",
    "                         beta_scale=5,\n",
    "                         seed=0):\n",
    "    \"\"\" Generates a table using a random poisson regression model.\n",
    "\n",
    "    Here we will be simulating microbial counts given the model, and the\n",
    "    corresponding model priors.\n",
    "\n",
    "    Parameters\n",
    "    ----------\n",
    "    num_samples : int\n",
    "        Number of samples\n",
    "    num_features : int\n",
    "        Number of features\n",
    "    tree : np.array\n",
    "        Tree specifying orthonormal contrast matrix.\n",
    "    low : float\n",
    "        Smallest gradient value.\n",
    "    high : float\n",
    "        Largest gradient value.\n",
    "    alpha_mean : float\n",
    "        Mean of alpha prior  (for global bias)\n",
    "    alpha_scale: float\n",
    "        Scale of alpha prior  (for global bias)\n",
    "    theta_mean : float\n",
    "        Mean of theta prior (for sample bias)\n",
    "    theta_scale : float\n",
    "        Scale of theta prior (for sample bias)\n",
    "    gamma_mean : float\n",
    "        Mean of gamma prior (for feature bias)\n",
    "    gamma_scale : float\n",
    "        Scale of gamma prior (for feature bias)\n",
    "    kappa_mean : float\n",
    "        Mean of kappa prior (for overdispersion)\n",
    "    kappa_scale : float\n",
    "        Scale of kappa prior (for overdispersion)\n",
    "    beta_mean : float\n",
    "        Mean of beta prior (for regression coefficients)\n",
    "    beta_scale : float\n",
    "        Scale of beta prior (for regression coefficients)\n",
    "\n",
    "    Returns\n",
    "    -------\n",
    "    table : biom.Table\n",
    "        Biom representation of the count table.\n",
    "    metadata : pd.DataFrame\n",
    "        DataFrame containing relevant metadata.\n",
    "    beta : np.array\n",
    "        Regression parameter estimates.\n",
    "    theta : np.array\n",
    "        Bias per sample.\n",
    "    gamma : np.array\n",
    "        Bias per feature\n",
    "    kappa : np.array\n",
    "        Dispersion rates of counts per sample.\n",
    "    \"\"\"\n",
    "    # generate all of the coefficient using the random poisson model\n",
    "    state = check_random_state(seed)\n",
    "    alpha = state.normal(alpha_mean, alpha_scale)\n",
    "    theta = state.normal(theta_mean, theta_scale, \n",
    "                         size=(num_samples, 1)) + alpha\n",
    "    beta = state.normal(beta_mean, beta_scale, size=num_features-1)\n",
    "    gamma = state.normal(gamma_mean, gamma_scale, size=num_features-1)\n",
    "    kappa = state.lognormal(kappa_mean, kappa_scale, size=num_features-1)\n",
    "\n",
    "    if tree is None:\n",
    "        basis = coo_matrix(_gram_schmidt_basis(num_features), \n",
    "                           dtype=np.float32)\n",
    "    else:\n",
    "        basis = sparse_balance_basis(tree)[0]\n",
    "\n",
    "    G = np.hstack([np.linspace(low, high, num_samples // reps)] \n",
    "                  for _ in range(reps))\n",
    "    N, D = num_samples, num_features\n",
    "    G_data = np.vstack((np.ones(N), G)).T\n",
    "    B = np.vstack((gamma, beta))\n",
    "\n",
    "    mu = G_data @ B @ basis\n",
    "    # we use kappa here to handle overdispersion.\n",
    "    #eps = lambda x: state.normal([0] * len(x), x)    \n",
    "    eps_ = np.vstack([state.normal([0] * len(kappa), kappa)\n",
    "                      for _ in range(mu.shape[0])])\n",
    "    eps = eps_ @ basis\n",
    "    table = np.vstack(\n",
    "        state.poisson(\n",
    "            np.exp(\n",
    "                mu[i, :] + theta[i] #+ eps[i, :]                \n",
    "            )\n",
    "        )\n",
    "        for i in range(mu.shape[0])        \n",
    "    ).T\n",
    "\n",
    "    samp_ids = ['S%d' % i for i in range(num_samples)]\n",
    "    feat_ids = ['F%d' % i for i in range(num_features)]\n",
    "    balance_ids = ['L%d' % i for i in range(num_features-1)]\n",
    "\n",
    "    table = Table(table, feat_ids, samp_ids)\n",
    "    metadata = pd.DataFrame({'G': G.ravel()}, index=samp_ids)\n",
    "    beta = pd.DataFrame({'beta': beta.ravel()}, index=balance_ids)\n",
    "    gamma = pd.DataFrame({'gamma': gamma.ravel()}, index=balance_ids)\n",
    "    kappa = pd.DataFrame({'kappa': kappa.ravel()}, index=balance_ids)\n",
    "    theta = pd.DataFrame({'theta': theta.ravel()}, index=samp_ids)\n",
    "    return table, metadata, basis, alpha, beta, theta, gamma, kappa, eps_"
   ]
  },
  {
   "cell_type": "markdown",
   "metadata": {},
   "source": [
    "# Simulation\n",
    "\n",
    "We will first propose a generative model model species distributions.\n",
    "\n",
    "The model will be constructed as follows\n",
    "\n",
    "Generate a linear regression given known regression coefficients and intercepts (B) and known environmental gradients (G)\n",
    "\n",
    "$v = GB$\n",
    "\n",
    "$v$ represents the log ratios (also known as logits) of the species.  These logits can ultimately be used to interpret trends of ecological succession amongst groups of species.  However, these log ratios cannot be directly estimated (since it isn't possible to take the logarithm of zero).  Instead, we will rely on the generative process, and convert these log ratios to proportions, before generating counts.\n",
    "\n",
    "$v$ can be converted to proportions using the ILR transform.  $v$ has $D-1$ dimensions, where $D$ is the number of species.  The ILR transform can be represented as follows\n",
    "\n",
    "$\\eta = \\Psi v$\n",
    "\n",
    "where $\\Psi$ is an orthonormal basis of dimensions $D \\times D-1$.  It is possible to encode a tree topology into $\\Psi$.  One approach is to take phylogenetic trees in order to infer evolutionary trends with respect to environmental gradients.  For the sake of simplicity, we will choose an arbituary tree.  In terms of generating microbial counts, the choice tree doesn't matter since all trees will generate orthonormal bases that are equivalent up to rotation.\n",
    "\n",
    "Once we have proportions estimated by $\\eta$, we can then use these proportions to parameterize a counting distribution, such as the Multinomial distribution, the Poisson distribution or the Negative Binomial distribution.\n",
    "\n",
    "Here we will use the Poisson distribution to simulate microbial counts.  In order to account or differences due to sequencing depth and additional sample biases, a bias constant $\\theta$ is added to the model.  A global bias $\\alpha$ is added to everything.\n",
    "\n",
    "$Y \\sim Poisson( exp(\\eta + \\theta + \\alpha) )$\n",
    "\n",
    "To evaluate how well the model fits, we will first simulate the data given the model.  We will randomly simulate the coefficients from a given prior distribution, and then generate the counts from the model.\n",
    "If the model works, we should be able to recover the underlying parameters, and regenerate the microbial count table."
   ]
  },
  {
   "cell_type": "code",
   "execution_count": 3,
   "metadata": {},
   "outputs": [],
   "source": [
    "dirname = '../../data/poisson_s100_f100'\n",
    "num_samples, num_features = 100, 100\n",
    "\"\"\"\n",
    "table = load_table(os.path.join(dirname, 'table.biom'))\n",
    "metadata = pd.read_table(os.path.join(dirname, 'metadata.txt'), index_col=0)\n",
    "tree = TreeNode.read(os.path.join(dirname, 'tree.nwk'))\n",
    "sim_beta = pd.read_csv(os.path.join(dirname, 'beta.csv'), index_col=0)\n",
    "sim_gamma = pd.read_csv(os.path.join(dirname, 'gamma.csv'), index_col=0)\n",
    "sim_theta = pd.read_csv(os.path.join(dirname, 'theta.csv'), index_col=0)\n",
    "basis, _ = sparse_balance_basis(tree)\n",
    "\n",
    "\"\"\"\n",
    "res = random_poisson_model(num_samples, num_features,\n",
    "                           reps=1,\n",
    "                           low=-1, high=1,\n",
    "                           alpha_mean=-3,\n",
    "                           alpha_scale=1,\n",
    "                           theta_mean=0,\n",
    "                           theta_scale=1,\n",
    "                           gamma_mean=0,\n",
    "                           gamma_scale=1,\n",
    "                           kappa_mean=0,\n",
    "                           kappa_scale=0.5,\n",
    "                           beta_mean=0,\n",
    "                           beta_scale=3 \n",
    "                          ) \n",
    "table, metadata, basis, sim_alpha, sim_beta, sim_theta, sim_gamma, sim_kappa, sim_eps = res\n",
    "\n",
    "\n",
    "N, D = num_samples, num_features\n",
    "p = metadata.shape[1]   # number of covariates\n",
    "G_data = metadata.values\n",
    "y_data = np.array(table.matrix_data.todense()).T\n",
    "save_path = 'tf_poisson_ilr'"
   ]
  },
  {
   "cell_type": "code",
   "execution_count": 4,
   "metadata": {},
   "outputs": [
    {
     "data": {
      "text/plain": [
       "100 x 100 <class 'biom.table.Table'> with 3865 nonzero entries (38% dense)"
      ]
     },
     "execution_count": 4,
     "metadata": {},
     "output_type": "execute_result"
    }
   ],
   "source": [
    "table"
   ]
  },
  {
   "cell_type": "code",
   "execution_count": 5,
   "metadata": {},
   "outputs": [
    {
     "data": {
      "text/plain": [
       "Text(0.5,1,'Simulation')"
      ]
     },
     "execution_count": 5,
     "metadata": {},
     "output_type": "execute_result"
    },
    {
     "data": {
      "image/png": "[encoded data removed]",
      "text/plain": [
       "<matplotlib.figure.Figure at 0x120d8a470>"
      ]
     },
     "metadata": {},
     "output_type": "display_data"
    }
   ],
   "source": [
    "# Plot the heatmap of the counts\n",
    "fig = plt.figure(figsize=(8, 5))\n",
    "plt.imshow(table.matrix_data.todense(), \n",
    "           aspect='auto', cmap='Reds', \n",
    "           norm=colors.LogNorm()\n",
    "          )\n",
    "plt.colorbar(label='counts')\n",
    "plt.ylabel('species', fontsize=24)\n",
    "plt.xlabel('samples', fontsize=24)\n",
    "plt.title('Simulation', fontsize=24) "
   ]
  },
  {
   "cell_type": "code",
   "execution_count": 6,
   "metadata": {},
   "outputs": [
    {
     "data": {
      "text/plain": [
       "100 x 100 <class 'biom.table.Table'> with 3865 nonzero entries (38% dense)"
      ]
     },
     "execution_count": 6,
     "metadata": {},
     "output_type": "execute_result"
    }
   ],
   "source": [
    "table"
   ]
  },
  {
   "cell_type": "markdown",
   "metadata": {},
   "source": [
    "# Model\n",
    "\n",
    "This is where we will specify the model.  Specifically\n",
    "\n",
    "$e_{ij} \\sim N(0, \\kappa_j)$\n",
    "\n",
    "$v_{ij} = \\gamma_j + g_{i.} \\cdot \\beta_{.j} + e_{ij}$\n",
    "\n",
    "$\\eta_i = \\Psi v_i + \\theta_i$\n",
    "\n",
    "$Y_i \\sim Poisson( \\exp(\\eta_i) )$\n",
    "\n",
    "$\\gamma$ represents the intercept terms and $\\beta$ represent the regression coefficient terms.\n",
    "\n",
    "G and Y are both observed.  Since we are estimating both $B$ and $\\theta$, we will need set priors for both of these variables.  We will set unit normal priors on both of these variables"
   ]
  },
  {
   "cell_type": "code",
   "execution_count": 7,
   "metadata": {},
   "outputs": [],
   "source": [
    "def sparse_matmul(A, B, row_index, col_index):\n",
    "    \"\"\" Sparse matrix multiplication.\n",
    "\n",
    "    This will try to evaluate the following product\n",
    "\n",
    "    A[i] @ B[j]\n",
    "\n",
    "    where i, j are the row and column indices specified in `indices`.\n",
    "\n",
    "    Parameters\n",
    "    ----------\n",
    "    A : tf.Tensor\n",
    "       Left 2D tensor\n",
    "    B : tf.Tensor\n",
    "       Right 2D tensor\n",
    "    row_idx : tf.Tensor\n",
    "       Row indexes to access in A\n",
    "    col_idx : tf.Tensor\n",
    "       Column indexes to access in B\n",
    "\n",
    "\n",
    "    Returns\n",
    "    -------\n",
    "    tf.Tensor\n",
    "       Result stored in a sparse tensor format, where the values\n",
    "       are derived from A[i] @ B[j] where i, j are the row and column\n",
    "       indices specified in `indices`.\n",
    "    \"\"\"\n",
    "    A_flat = tf.gather(A, row_index, axis=0)\n",
    "    B_flat = tf.transpose(tf.gather(B, col_index, axis=1))\n",
    "    values = tf.reduce_sum(tf.multiply(A_flat, B_flat), axis=1)\n",
    "    return values\n",
    "\n",
    "def get_batch(M, Y, num_neg=10):\n",
    "    \"\"\" Get's batch data\n",
    "\n",
    "    Parameters\n",
    "    ----------\n",
    "    M : int\n",
    "        batch size\n",
    "    Y : scipy.sparse.coo_matrix\n",
    "        Scipy sparse matrix in COO-format.\n",
    "    num_neg : int\n",
    "        Number of negative samples\n",
    "\n",
    "    Returns\n",
    "    -------\n",
    "    pos_row : np.array\n",
    "        Selected rows for positive values\n",
    "    pos_col : np.array\n",
    "        Selected columns for positive values\n",
    "    pos_data : np.array\n",
    "        Selected data for positive values\n",
    "    neg_row : np.array\n",
    "        Selected rows for negative values\n",
    "    neg_col : np.array\n",
    "        Selected columns for negative values\n",
    "    neg_data : np.array\n",
    "        Selected data for negative values        \n",
    "    \"\"\"\n",
    "    y_data = Y.data\n",
    "    y_row = Y.row\n",
    "    y_col = Y.col\n",
    "    \n",
    "    # get positive sample\n",
    "    positive_idx = np.random.choice(len(y_data), M)\n",
    "    positive_row = y_row[positive_idx].astype(np.int32)\n",
    "    positive_col = y_col[positive_idx].astype(np.int32)\n",
    "    positive_data = y_data[positive_idx].astype(np.float32)\n",
    "\n",
    "    # store all of the positive (i, j) coords\n",
    "    idx = np.vstack((y_row, y_col)).T\n",
    "    idx = set(map(tuple, idx.tolist()))\n",
    "\n",
    "    # get negative sample\n",
    "    N, D = Y.shape\n",
    "    negative_row = np.zeros(num_neg, dtype=np.int32)\n",
    "    negative_col = np.zeros(num_neg, dtype=np.int32)\n",
    "    negative_data = np.zeros(num_neg, dtype=np.float32)\n",
    "    for k in range(num_neg):\n",
    "        i, j = np.random.randint(N), np.random.randint(D)\n",
    "        while (i, j) in idx:\n",
    "            i, j = np.random.randint(N), np.random.randint(D)\n",
    "        negative_row[k] = i\n",
    "        negative_col[k] = j\n",
    "                   \n",
    "    return (positive_row, positive_col, positive_data, \n",
    "            negative_row, negative_col, negative_data)"
   ]
  },
  {
   "cell_type": "code",
   "execution_count": 8,
   "metadata": {},
   "outputs": [],
   "source": [
    "# Priors\n",
    "gamma_mean = 0\n",
    "gamma_scale = 1\n",
    "beta_mean = 0\n",
    "beta_scale = 3\n",
    "learning_rate = 0.1\n",
    "\n",
    "# Mini batch size\n",
    "batch_size = 60\n",
    "num_neg = 40\n",
    "\n",
    "epoch = table.nnz // batch_size\n",
    "#num_iter = int(epoch * batch_size)\n",
    "num_epoch = 5\n",
    "num_iter = int(epoch * num_epoch)\n",
    "\n",
    "basis = basis.T\n",
    "\n",
    "biom_data = table.matrix_data.tocoo().T\n",
    "\n",
    "config = tf.ConfigProto(intra_op_parallelism_threads=2, \n",
    "                        inter_op_parallelism_threads=2,\n",
    "                        device_count={'CPU': 4}) \n",
    "session = tf.InteractiveSession(config=config)"
   ]
  },
  {
   "cell_type": "code",
   "execution_count": 9,
   "metadata": {
    "scrolled": true
   },
   "outputs": [
    {
     "name": "stderr",
     "output_type": "stream",
     "text": [
      "100%|██████████| 320/320 [00:02<00:00, 150.73it/s]\n"
     ]
    }
   ],
   "source": [
    "from edward.models import Normal, Poisson\n",
    "\n",
    "# Place holder variables to accept input data                                                                 \n",
    "Gpos_ph = tf.placeholder(tf.float32, [batch_size, p], name='G_pos')\n",
    "Gneg_ph = tf.placeholder(tf.float32, [num_neg, p], name='G_neg')\n",
    "Y_ph = tf.placeholder(tf.float32, [batch_size], name='Y_ph')\n",
    "pos_row = tf.placeholder(tf.int32, shape=[batch_size], name='pos_row')\n",
    "pos_col = tf.placeholder(tf.int32, shape=[batch_size], name='pos_col')\n",
    "neg_row = tf.placeholder(tf.int32, shape=[num_neg], name='neg_row')\n",
    "neg_col = tf.placeholder(tf.int32, shape=[num_neg], name='neg_col')\n",
    "\n",
    "neg_data = tf.zeros(shape=[num_neg], name='neg_data', dtype=tf.float32)\n",
    "total_zero = tf.constant(table.shape[0] * table.shape[1] - table.nnz, dtype=tf.float32)\n",
    "total_nonzero = tf.constant(table.nnz, dtype=tf.float32)\n",
    "\n",
    "# Define PointMass Variables first\n",
    "qgamma = tf.Variable(tf.random_normal([1, D-1]), name='qgamma')\n",
    "theta = tf.Variable(tf.random_normal([N, 1]), name='theta')\n",
    "qbeta = tf.Variable(tf.random_normal([p, D-1]), name='qB')\n",
    "\n",
    "# Distributions\n",
    "# sample bias (for overdispersion)\n",
    "# theta = Normal(loc=tf.zeros([N, 1]) + theta_mean,\n",
    "#                scale=tf.ones([N, 1]) * theta_scale,\n",
    "#                name='theta')\n",
    "# species bias\n",
    "gamma = Normal(loc=tf.zeros([1, D-1]) + gamma_mean,\n",
    "               scale=tf.ones([1, D-1]) * gamma_scale, \n",
    "               name='gamma')\n",
    "# regression coefficents distribution\n",
    "beta = Normal(loc=tf.zeros([p, D-1]) + beta_mean,\n",
    "              scale=tf.ones([p, D-1]) * beta_scale, \n",
    "              name='B')\n",
    "\n",
    "Bprime = tf.concat([qgamma, qbeta], axis=0)\n",
    "\n",
    "# add bias terms for samples\n",
    "Gpos = tf.concat([tf.ones([batch_size, 1]), Gpos_ph], axis=1)\n",
    "Gneg = tf.concat([tf.ones([num_neg, 1]), Gneg_ph], axis=1)\n",
    "\n",
    "# Convert basis to SparseTensor\n",
    "psi = tf.SparseTensor(\n",
    "    indices=np.mat([basis.row, basis.col]).transpose(),\n",
    "    values=basis.data,\n",
    "    dense_shape=basis.shape) \n",
    "\n",
    "V = tf.transpose(\n",
    "    tf.sparse_tensor_dense_matmul(psi, tf.transpose(Bprime))\n",
    ")\n",
    "\n",
    "# sparse matrix multiplication for positive samples\n",
    "pos_prime = tf.reduce_sum(\n",
    "    tf.multiply(\n",
    "        Gpos, tf.transpose(\n",
    "            tf.gather(V, pos_col, axis=1))),\n",
    "    axis=1)\n",
    "\n",
    "pos_phi = tf.reshape(tf.gather(theta, pos_row), shape=[batch_size]) + pos_prime\n",
    "Y = Poisson(log_rate=pos_phi, name='Y') \n",
    "\n",
    "# sparse matrix multiplication for negative samples\n",
    "neg_prime = tf.reduce_sum(\n",
    "    tf.multiply(\n",
    "        Gneg, tf.transpose(\n",
    "            tf.gather(V, neg_col, axis=1))),\n",
    "    axis=1)\n",
    "neg_phi = tf.reshape(tf.gather(theta, neg_row), shape=[num_neg]) + neg_prime\n",
    "neg_poisson = Poisson(log_rate=neg_phi, name='neg_counts')\n",
    "\n",
    "loss = -(\n",
    "  tf.reduce_sum(gamma.log_prob(qgamma)) + \\\n",
    "  tf.reduce_sum(beta.log_prob(qbeta)) + \\\n",
    "  tf.reduce_sum(Y.log_prob(Y_ph)) * (total_nonzero / batch_size) + \\\n",
    "  tf.reduce_sum(neg_poisson.log_prob(neg_data)) * (total_zero / num_neg)\n",
    ")\n",
    "\"\"\"\n",
    "lam = tf.reshape(tf.gather(theta, pos_row), shape=[batch_size]) + pos_prime\n",
    "Gsum = tf.reduce_sum(tf.exp(Gpos), axis=0)\n",
    "Vsum = tf.transpose(tf.reduce_sum(tf.exp(V), axis=1))\n",
    "poisson_log = (tf.reduce_sum(tf.multiply(Y_ph, pos_phi)) - \\\n",
    "               tf.reduce_sum(tf.lgamma(Y_ph)) - \\\n",
    "               (tf.reduce_sum(tf.exp(pos_phi)) * (total_nonzero / batch_size) + \\\n",
    "                tf.reduce_sum(tf.exp(neg_phi)) * (total_zero / num_neg))\n",
    "              )\n",
    "loss = -(\n",
    "  tf.reduce_sum(gamma.log_prob(qgamma)) + \\\n",
    "  tf.reduce_sum(beta.log_prob(qbeta)) + \\\n",
    "  poisson_log\n",
    ") \n",
    "\"\"\"\n",
    "optimizer = tf.train.AdamOptimizer(learning_rate, beta1=0.9, beta2=0.9)\n",
    "gradients, variables = zip(*optimizer.compute_gradients(loss))\n",
    "gradients, _ = tf.clip_by_global_norm(gradients, 10.0)\n",
    "train = optimizer.apply_gradients(zip(gradients, variables))\n",
    "\n",
    "tf.summary.scalar('loss', loss)\n",
    "tf.summary.histogram('theta', theta)\n",
    "tf.summary.histogram('qbeta', qbeta)\n",
    "tf.summary.histogram('qgamma', qgamma)\n",
    "#tf.summary.histogram('gradients', gradients)\n",
    "merged = tf.summary.merge_all()\n",
    "tf.global_variables_initializer().run()\n",
    "\n",
    "writer = tf.summary.FileWriter(save_path, session.graph)\n",
    "G_data = metadata.values.astype(np.float32)\n",
    "losses = np.array([0.] * num_iter)\n",
    "idx = np.arange(metadata.shape[0])\n",
    "for i in tqdm(range(num_iter)):\n",
    "    batch_idx = np.random.choice(idx, size=batch_size)\n",
    "    batch = get_batch(batch_size, biom_data, num_neg=num_neg)\n",
    "    (positive_row, positive_col, positive_data,\n",
    "     negative_row, negative_col, negative_data) = batch\n",
    "    feed_dict={\n",
    "            Y_ph: positive_data, \n",
    "            Gpos_ph: G_data[positive_row, :],\n",
    "            Gneg_ph: G_data[negative_row, :],\n",
    "            pos_row: positive_row,\n",
    "            pos_col: positive_col,\n",
    "            neg_row: negative_row,\n",
    "            neg_col: negative_col\n",
    "    }    \n",
    "    _, summary, train_loss, grads = session.run(\n",
    "        [train, merged, loss, gradients], \n",
    "        feed_dict=feed_dict\n",
    "    )\n",
    "    writer.add_summary(summary, i)\n",
    "    losses[i] = train_loss\n",
    "    #print(\"Step %d / %d: lr = %5.2f loss = %6.2f\\r\" %\n",
    "    #      (i, num_iter, lr, train_loss))"
   ]
  },
  {
   "cell_type": "code",
   "execution_count": 10,
   "metadata": {},
   "outputs": [
    {
     "data": {
      "text/plain": [
       "array([12538.51171875, 12529.27539062, 15190.7734375 , 15957.17480469,\n",
       "       10523.09277344, 12167.20605469, 12947.25488281, 11613.00195312,\n",
       "       10547.6015625 , 11462.06835938])"
      ]
     },
     "execution_count": 10,
     "metadata": {},
     "output_type": "execute_result"
    }
   ],
   "source": [
    "losses[-10:]"
   ]
  },
  {
   "cell_type": "code",
   "execution_count": 11,
   "metadata": {},
   "outputs": [
    {
     "data": {
      "image/png": "[encoded data removed]",
      "text/plain": [
       "<matplotlib.figure.Figure at 0x12357d240>"
      ]
     },
     "metadata": {},
     "output_type": "display_data"
    }
   ],
   "source": [
    "plt.plot(losses)\n",
    "plt.yscale('log')"
   ]
  },
  {
   "cell_type": "code",
   "execution_count": 12,
   "metadata": {},
   "outputs": [],
   "source": [
    "beta_ = qbeta.eval()\n",
    "gamma_ = qgamma.eval()\n",
    "theta_ = theta.eval()"
   ]
  },
  {
   "cell_type": "code",
   "execution_count": 13,
   "metadata": {},
   "outputs": [
    {
     "name": "stdout",
     "output_type": "stream",
     "text": [
      "(0.9842394756341813, 8.505168156670477e-75)\n"
     ]
    },
    {
     "data": {
      "image/png": "[encoded data removed]",
      "text/plain": [
       "<matplotlib.figure.Figure at 0x123bf7ba8>"
      ]
     },
     "metadata": {},
     "output_type": "display_data"
    }
   ],
   "source": [
    "from scipy.stats import pearsonr\n",
    "fig, ax = plt.subplots(figsize=(4, 4))\n",
    "x = np.ravel(sim_beta)\n",
    "y = np.ravel(beta_)\n",
    "ax.scatter(x, y)\n",
    "mx = np.linspace(min([sim_beta.values.min(), beta_.min()]), \n",
    "                 max([sim_beta.values.max(), beta_.max()]))\n",
    "ax.plot(mx, mx, '-k')\n",
    "plt.xlabel('Simulated Beta')\n",
    "plt.ylabel('Estimated Beta')\n",
    "print(pearsonr(x, y))"
   ]
  },
  {
   "cell_type": "code",
   "execution_count": 14,
   "metadata": {},
   "outputs": [
    {
     "name": "stdout",
     "output_type": "stream",
     "text": [
      "(0.8487712691428908, 1.358488718726555e-28)\n"
     ]
    },
    {
     "data": {
      "image/png": "[encoded data removed]",
      "text/plain": [
       "<matplotlib.figure.Figure at 0x123c58828>"
      ]
     },
     "metadata": {},
     "output_type": "display_data"
    }
   ],
   "source": [
    "fig, ax = plt.subplots(figsize=(4, 4))\n",
    "x = np.ravel(sim_gamma)\n",
    "y = np.ravel(gamma_)\n",
    "ax.scatter(x, y)\n",
    "mx = np.linspace(min([sim_gamma.values.min(), gamma_.min()]), \n",
    "                 max([sim_gamma.values.max(), gamma_.max()]))\n",
    "ax.plot(mx, mx, '-k')\n",
    "plt.xlabel('Simulated Gamma')\n",
    "plt.ylabel('Estimated Gamma')\n",
    "print(pearsonr(x, y))"
   ]
  },
  {
   "cell_type": "code",
   "execution_count": 15,
   "metadata": {},
   "outputs": [
    {
     "name": "stdout",
     "output_type": "stream",
     "text": [
      "(0.9426512345150283, 1.6957114232294194e-48)\n"
     ]
    },
    {
     "data": {
      "image/png": "[encoded data removed]",
      "text/plain": [
       "<matplotlib.figure.Figure at 0x123c19898>"
      ]
     },
     "metadata": {},
     "output_type": "display_data"
    }
   ],
   "source": [
    "from scipy.stats import pearsonr\n",
    "fig, ax = plt.subplots(figsize=(4, 4))\n",
    "x = np.ravel(sim_theta)\n",
    "y = np.ravel(theta_)\n",
    "ax.scatter(x, y)\n",
    "mx = np.linspace(min([sim_theta.values.min(), theta_.min()]), \n",
    "                 max([sim_theta.values.max(), theta_.max()]))\n",
    "ax.plot(mx, mx, '-k')\n",
    "plt.xlabel('Simulated Theta')\n",
    "plt.ylabel('Estimated Theta') \n",
    "print(pearsonr(x, y))"
   ]
  },
  {
   "cell_type": "code",
   "execution_count": 16,
   "metadata": {},
   "outputs": [
    {
     "data": {
      "text/plain": [
       "<matplotlib.colorbar.Colorbar at 0x123d94f60>"
      ]
     },
     "execution_count": 16,
     "metadata": {},
     "output_type": "execute_result"
    },
    {
     "data": {
      "image/png": "[encoded data removed]",
      "text/plain": [
       "<matplotlib.figure.Figure at 0x123c52320>"
      ]
     },
     "metadata": {},
     "output_type": "display_data"
    }
   ],
   "source": [
    "plt.imshow(np.random.poisson(\n",
    "    np.exp(theta_ + (G_data @ beta_ + gamma_) @ basis.T).T), \n",
    "           aspect='auto', cmap='Reds', \n",
    "           norm=colors.LogNorm()\n",
    "          ) \n",
    "plt.colorbar(label='counts')"
   ]
  },
  {
   "cell_type": "code",
   "execution_count": 17,
   "metadata": {},
   "outputs": [
    {
     "data": {
      "text/plain": [
       "Text(0.5,1,'Simulation')"
      ]
     },
     "execution_count": 17,
     "metadata": {},
     "output_type": "execute_result"
    },
    {
     "data": {
      "image/png": "[encoded data removed]",
      "text/plain": [
       "<matplotlib.figure.Figure at 0x123e2f518>"
      ]
     },
     "metadata": {},
     "output_type": "display_data"
    }
   ],
   "source": [
    "# Plot the heatmap of the counts\n",
    "fig = plt.figure(figsize=(8, 5))\n",
    "plt.imshow(table.matrix_data.todense(), \n",
    "           aspect='auto', cmap='Reds', \n",
    "           norm=colors.LogNorm()\n",
    "          )\n",
    "plt.colorbar(label='counts') \n",
    "plt.ylabel('species', fontsize=24)\n",
    "plt.xlabel('samples', fontsize=24)\n",
    "plt.title('Simulation', fontsize=24) "
   ]
  },
  {
   "cell_type": "code",
   "execution_count": 18,
   "metadata": {},
   "outputs": [],
   "source": [
    "pred = np.exp(theta_ + (G_data @ beta_ + gamma_) @ basis.T)\n",
    "obs = table.matrix_data.todense()"
   ]
  },
  {
   "cell_type": "code",
   "execution_count": 19,
   "metadata": {},
   "outputs": [
    {
     "data": {
      "text/plain": [
       "3.0"
      ]
     },
     "execution_count": 19,
     "metadata": {},
     "output_type": "execute_result"
    }
   ],
   "source": [
    "obs.sum(axis=1).min()"
   ]
  },
  {
   "cell_type": "code",
   "execution_count": 20,
   "metadata": {},
   "outputs": [
    {
     "ename": "NameError",
     "evalue": "name 'Gsum' is not defined",
     "output_type": "error",
     "traceback": [
      "\u001b[0;31m---------------------------------------------------------------------------\u001b[0m",
      "\u001b[0;31mNameError\u001b[0m                                 Traceback (most recent call last)",
      "\u001b[0;32m<ipython-input-20-305eb046654c>\u001b[0m in \u001b[0;36m<module>\u001b[0;34m()\u001b[0m\n\u001b[0;32m----> 1\u001b[0;31m \u001b[0mGsum\u001b[0m\u001b[0;34m.\u001b[0m\u001b[0mshape\u001b[0m\u001b[0;34m\u001b[0m\u001b[0m\n\u001b[0m",
      "\u001b[0;31mNameError\u001b[0m: name 'Gsum' is not defined"
     ]
    }
   ],
   "source": [
    "Gsum.shape"
   ]
  },
  {
   "cell_type": "code",
   "execution_count": null,
   "metadata": {},
   "outputs": [],
   "source": [
    "Vsum.shape"
   ]
  },
  {
   "cell_type": "code",
   "execution_count": null,
   "metadata": {},
   "outputs": [],
   "source": [
    "Gpos.shape"
   ]
  },
  {
   "cell_type": "code",
   "execution_count": null,
   "metadata": {},
   "outputs": [],
   "source": []
  }
 ],
 "metadata": {
  "kernelspec": {
   "display_name": "Python 3",
   "language": "python",
   "name": "python3"
  },
  "language_info": {
   "codemirror_mode": {
    "name": "ipython",
    "version": 3
   },
   "file_extension": ".py",
   "mimetype": "text/x-python",
   "name": "python",
   "nbconvert_exporter": "python",
   "pygments_lexer": "ipython3",
   "version": "3.5.5"
  }
 },
 "nbformat": 4,
 "nbformat_minor": 2
}
